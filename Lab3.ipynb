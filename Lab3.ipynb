{
 "cells": [
  {
   "cell_type": "code",
   "execution_count": 1,
   "metadata": {},
   "outputs": [],
   "source": [
    "# Basic\n",
    "import pandas as pd\n",
    "import numpy as np\n",
    "import seaborn as sns\n",
    "import matplotlib.pyplot as plt\n",
    "%matplotlib inline\n",
    "from itertools import cycle\n",
    "\n",
    "# Avoid warning messages\n",
    "import warnings\n",
    "warnings.filterwarnings(\"ignore\")\n",
    "\n",
    "# Scikit-learn\n",
    "from sklearn.metrics import confusion_matrix, confusion_matrix, precision_recall_curve, roc_auc_score, roc_curve, auc, accuracy_score\n",
    "from sklearn.model_selection import train_test_split, GridSearchCV, cross_val_score\n",
    "from sklearn.preprocessing import label_binarize, StandardScaler\n",
    "from sklearn.neighbors import KNeighborsClassifier\n",
    "from sklearn.naive_bayes import GaussianNB\n",
    "\n",
    "# Scipy\n",
    "from scipy import interp\n",
    "\n",
    "# Keras & Tensorflow\n",
    "import tensorflow as tf\n",
    "from tensorflow.keras.layers import Input, Dense, Activation, Dropout, Flatten\n",
    "from tensorflow.keras.callbacks import EarlyStopping\n",
    "from tensorflow.keras.models import Sequential\n",
    "from tensorflow.keras.optimizers import Adam, SGD\n",
    "from keras.constraints import maxnorm"
   ]
  },
  {
   "cell_type": "code",
   "execution_count": 2,
   "metadata": {},
   "outputs": [],
   "source": [
    "# Locate data directory\n",
    "filepath = r'drug200.csv'\n",
    "\n",
    "df = pd.read_csv(filepath)"
   ]
  },
  {
   "cell_type": "markdown",
   "metadata": {},
   "source": [
    "## Data exploratory"
   ]
  },
  {
   "cell_type": "code",
   "execution_count": 3,
   "metadata": {},
   "outputs": [
    {
     "data": {
      "text/html": [
       "<div>\n",
       "<style scoped>\n",
       "    .dataframe tbody tr th:only-of-type {\n",
       "        vertical-align: middle;\n",
       "    }\n",
       "\n",
       "    .dataframe tbody tr th {\n",
       "        vertical-align: top;\n",
       "    }\n",
       "\n",
       "    .dataframe thead th {\n",
       "        text-align: right;\n",
       "    }\n",
       "</style>\n",
       "<table border=\"1\" class=\"dataframe\">\n",
       "  <thead>\n",
       "    <tr style=\"text-align: right;\">\n",
       "      <th></th>\n",
       "      <th>Age</th>\n",
       "      <th>Sex</th>\n",
       "      <th>BP</th>\n",
       "      <th>Cholesterol</th>\n",
       "      <th>Na_to_K</th>\n",
       "      <th>Drug</th>\n",
       "    </tr>\n",
       "  </thead>\n",
       "  <tbody>\n",
       "    <tr>\n",
       "      <th>0</th>\n",
       "      <td>23</td>\n",
       "      <td>F</td>\n",
       "      <td>HIGH</td>\n",
       "      <td>HIGH</td>\n",
       "      <td>25.355</td>\n",
       "      <td>DrugY</td>\n",
       "    </tr>\n",
       "    <tr>\n",
       "      <th>1</th>\n",
       "      <td>47</td>\n",
       "      <td>M</td>\n",
       "      <td>LOW</td>\n",
       "      <td>HIGH</td>\n",
       "      <td>13.093</td>\n",
       "      <td>drugC</td>\n",
       "    </tr>\n",
       "    <tr>\n",
       "      <th>2</th>\n",
       "      <td>47</td>\n",
       "      <td>M</td>\n",
       "      <td>LOW</td>\n",
       "      <td>HIGH</td>\n",
       "      <td>10.114</td>\n",
       "      <td>drugC</td>\n",
       "    </tr>\n",
       "    <tr>\n",
       "      <th>3</th>\n",
       "      <td>28</td>\n",
       "      <td>F</td>\n",
       "      <td>NORMAL</td>\n",
       "      <td>HIGH</td>\n",
       "      <td>7.798</td>\n",
       "      <td>drugX</td>\n",
       "    </tr>\n",
       "    <tr>\n",
       "      <th>4</th>\n",
       "      <td>61</td>\n",
       "      <td>F</td>\n",
       "      <td>LOW</td>\n",
       "      <td>HIGH</td>\n",
       "      <td>18.043</td>\n",
       "      <td>DrugY</td>\n",
       "    </tr>\n",
       "    <tr>\n",
       "      <th>5</th>\n",
       "      <td>22</td>\n",
       "      <td>F</td>\n",
       "      <td>NORMAL</td>\n",
       "      <td>HIGH</td>\n",
       "      <td>8.607</td>\n",
       "      <td>drugX</td>\n",
       "    </tr>\n",
       "    <tr>\n",
       "      <th>6</th>\n",
       "      <td>49</td>\n",
       "      <td>F</td>\n",
       "      <td>NORMAL</td>\n",
       "      <td>HIGH</td>\n",
       "      <td>16.275</td>\n",
       "      <td>DrugY</td>\n",
       "    </tr>\n",
       "    <tr>\n",
       "      <th>7</th>\n",
       "      <td>41</td>\n",
       "      <td>M</td>\n",
       "      <td>LOW</td>\n",
       "      <td>HIGH</td>\n",
       "      <td>11.037</td>\n",
       "      <td>drugC</td>\n",
       "    </tr>\n",
       "    <tr>\n",
       "      <th>8</th>\n",
       "      <td>60</td>\n",
       "      <td>M</td>\n",
       "      <td>NORMAL</td>\n",
       "      <td>HIGH</td>\n",
       "      <td>15.171</td>\n",
       "      <td>DrugY</td>\n",
       "    </tr>\n",
       "    <tr>\n",
       "      <th>9</th>\n",
       "      <td>43</td>\n",
       "      <td>M</td>\n",
       "      <td>LOW</td>\n",
       "      <td>NORMAL</td>\n",
       "      <td>19.368</td>\n",
       "      <td>DrugY</td>\n",
       "    </tr>\n",
       "  </tbody>\n",
       "</table>\n",
       "</div>"
      ],
      "text/plain": [
       "   Age Sex      BP Cholesterol  Na_to_K   Drug\n",
       "0   23   F    HIGH        HIGH   25.355  DrugY\n",
       "1   47   M     LOW        HIGH   13.093  drugC\n",
       "2   47   M     LOW        HIGH   10.114  drugC\n",
       "3   28   F  NORMAL        HIGH    7.798  drugX\n",
       "4   61   F     LOW        HIGH   18.043  DrugY\n",
       "5   22   F  NORMAL        HIGH    8.607  drugX\n",
       "6   49   F  NORMAL        HIGH   16.275  DrugY\n",
       "7   41   M     LOW        HIGH   11.037  drugC\n",
       "8   60   M  NORMAL        HIGH   15.171  DrugY\n",
       "9   43   M     LOW      NORMAL   19.368  DrugY"
      ]
     },
     "execution_count": 3,
     "metadata": {},
     "output_type": "execute_result"
    }
   ],
   "source": [
    "df.head(10)"
   ]
  },
  {
   "cell_type": "code",
   "execution_count": 4,
   "metadata": {},
   "outputs": [
    {
     "data": {
      "text/plain": [
       "(200, 6)"
      ]
     },
     "execution_count": 4,
     "metadata": {},
     "output_type": "execute_result"
    }
   ],
   "source": [
    "df.shape"
   ]
  },
  {
   "cell_type": "code",
   "execution_count": 5,
   "metadata": {},
   "outputs": [
    {
     "data": {
      "text/html": [
       "<div>\n",
       "<style scoped>\n",
       "    .dataframe tbody tr th:only-of-type {\n",
       "        vertical-align: middle;\n",
       "    }\n",
       "\n",
       "    .dataframe tbody tr th {\n",
       "        vertical-align: top;\n",
       "    }\n",
       "\n",
       "    .dataframe thead th {\n",
       "        text-align: right;\n",
       "    }\n",
       "</style>\n",
       "<table border=\"1\" class=\"dataframe\">\n",
       "  <thead>\n",
       "    <tr style=\"text-align: right;\">\n",
       "      <th></th>\n",
       "      <th>Age</th>\n",
       "      <th>Na_to_K</th>\n",
       "    </tr>\n",
       "  </thead>\n",
       "  <tbody>\n",
       "    <tr>\n",
       "      <th>count</th>\n",
       "      <td>200.000000</td>\n",
       "      <td>200.000000</td>\n",
       "    </tr>\n",
       "    <tr>\n",
       "      <th>mean</th>\n",
       "      <td>44.315000</td>\n",
       "      <td>16.084485</td>\n",
       "    </tr>\n",
       "    <tr>\n",
       "      <th>std</th>\n",
       "      <td>16.544315</td>\n",
       "      <td>7.223956</td>\n",
       "    </tr>\n",
       "    <tr>\n",
       "      <th>min</th>\n",
       "      <td>15.000000</td>\n",
       "      <td>6.269000</td>\n",
       "    </tr>\n",
       "    <tr>\n",
       "      <th>25%</th>\n",
       "      <td>31.000000</td>\n",
       "      <td>10.445500</td>\n",
       "    </tr>\n",
       "    <tr>\n",
       "      <th>50%</th>\n",
       "      <td>45.000000</td>\n",
       "      <td>13.936500</td>\n",
       "    </tr>\n",
       "    <tr>\n",
       "      <th>75%</th>\n",
       "      <td>58.000000</td>\n",
       "      <td>19.380000</td>\n",
       "    </tr>\n",
       "    <tr>\n",
       "      <th>max</th>\n",
       "      <td>74.000000</td>\n",
       "      <td>38.247000</td>\n",
       "    </tr>\n",
       "  </tbody>\n",
       "</table>\n",
       "</div>"
      ],
      "text/plain": [
       "              Age     Na_to_K\n",
       "count  200.000000  200.000000\n",
       "mean    44.315000   16.084485\n",
       "std     16.544315    7.223956\n",
       "min     15.000000    6.269000\n",
       "25%     31.000000   10.445500\n",
       "50%     45.000000   13.936500\n",
       "75%     58.000000   19.380000\n",
       "max     74.000000   38.247000"
      ]
     },
     "execution_count": 5,
     "metadata": {},
     "output_type": "execute_result"
    }
   ],
   "source": [
    "df.describe()"
   ]
  },
  {
   "cell_type": "markdown",
   "metadata": {},
   "source": [
    "## Train Test Split"
   ]
  },
  {
   "cell_type": "code",
   "execution_count": 6,
   "metadata": {},
   "outputs": [],
   "source": [
    "# X - features, y - target\n",
    "X = df.drop([\"Drug\"],axis=1)\n",
    "y = df.Drug\n",
    "\n",
    "# Dummify categorized variable\n",
    "X = pd.get_dummies(X, ['Sex','BP','Cholesterol'])\n",
    "y = pd.get_dummies(y, ['Drug'])\n",
    "\n",
    "# Binarize the output\n",
    "y = label_binarize(y, classes=[0, 1, 2, 3, 4])\n",
    "n_classes = y.shape[1]"
   ]
  },
  {
   "cell_type": "code",
   "execution_count": 7,
   "metadata": {},
   "outputs": [],
   "source": [
    "# Split the data to Train, and Test (80%, 20%)\n",
    "X_train, X_test, y_train, y_test = train_test_split(X, y, test_size = .2)"
   ]
  },
  {
   "cell_type": "markdown",
   "metadata": {},
   "source": [
    "## Inverse transform dummy variable"
   ]
  },
  {
   "cell_type": "code",
   "execution_count": 8,
   "metadata": {},
   "outputs": [],
   "source": [
    "# Transform the target variable from [0,0,1,0,0] back to [2]\n",
    "def inverse_transform(array):\n",
    "    list = []\n",
    "    for rows in range(array.shape[0]):\n",
    "        for cols in range(array.shape[1]):\n",
    "            if (array[rows,cols] == 1):\n",
    "                list.append(cols)\n",
    "    return list"
   ]
  },
  {
   "cell_type": "markdown",
   "metadata": {},
   "source": [
    "## Normalization"
   ]
  },
  {
   "cell_type": "code",
   "execution_count": 9,
   "metadata": {},
   "outputs": [],
   "source": [
    "# Scale data with mean=0 and standard deviation=1\n",
    "normalizer = StandardScaler()\n",
    "X_train_norm = normalizer.fit_transform(X_train)\n",
    "X_test_norm = normalizer.transform(X_test)"
   ]
  },
  {
   "cell_type": "markdown",
   "metadata": {},
   "source": [
    "## Timer"
   ]
  },
  {
   "cell_type": "code",
   "execution_count": 10,
   "metadata": {},
   "outputs": [],
   "source": [
    "# Count training model runtime\n",
    "def tic():\n",
    "    import time\n",
    "    global startTime_for_tictoc\n",
    "    startTime_for_tictoc = time.time()\n",
    "\n",
    "def toc():\n",
    "    import time, math;\n",
    "    if 'startTime_for_tictoc' in globals():\n",
    "        dt = math.floor(100*(time.time() - startTime_for_tictoc))/100.;\n",
    "        #print('Elapsed time is {} second(s).'.format(dt));\n",
    "        return dt\n",
    "    else:\n",
    "        print('Start time not set. You should call tic before toc.');"
   ]
  },
  {
   "cell_type": "markdown",
   "metadata": {},
   "source": [
    "## Plot ROC Curve"
   ]
  },
  {
   "cell_type": "code",
   "execution_count": 11,
   "metadata": {},
   "outputs": [],
   "source": [
    "# Plot ROC Curve for multiclass classification\n",
    "def plot_multiple_roc(y_test, y_pred, model_name):\n",
    "    fpr = dict()\n",
    "    tpr = dict()\n",
    "    roc_auc = dict()\n",
    "    \n",
    "    for i in range(n_classes):\n",
    "        fpr[i], tpr[i], _ = roc_curve(y_test[:, i], y_pred[:, i])\n",
    "        roc_auc[i] = auc(fpr[i], tpr[i])\n",
    "    \n",
    "    fpr[\"micro\"], tpr[\"micro\"], _ = roc_curve(y_test.ravel(), y_pred.ravel())\n",
    "    roc_auc[\"micro\"] = auc(fpr[\"micro\"], tpr[\"micro\"])\n",
    "    \n",
    "    # First aggregate all false positive rates\n",
    "    all_fpr = np.unique(np.concatenate([fpr[i] for i in range(n_classes)]))\n",
    "\n",
    "    # Then interpolate all ROC curves at this points\n",
    "    mean_tpr = np.zeros_like(all_fpr)\n",
    "    for i in range(n_classes):\n",
    "        mean_tpr += interp(all_fpr, fpr[i], tpr[i])\n",
    "\n",
    "    # Average it and compute AUC\n",
    "    mean_tpr /= n_classes\n",
    "\n",
    "    fpr[\"macro\"] = all_fpr\n",
    "    tpr[\"macro\"] = mean_tpr\n",
    "    roc_auc[\"macro\"] = auc(fpr[\"macro\"], tpr[\"macro\"])\n",
    "\n",
    "    # Plot all ROC curves\n",
    "    fig, ax = plt.subplots(figsize=(8, 8))\n",
    "    ax.plot(fpr[\"micro\"], tpr[\"micro\"],\n",
    "             label='micro-average ROC curve (area = {0:0.3f})'\n",
    "                   ''.format(roc_auc[\"micro\"]),\n",
    "             color='deeppink', linestyle=':', lw=2)\n",
    "\n",
    "    ax.plot(fpr[\"macro\"], tpr[\"macro\"],\n",
    "             label='macro-average ROC curve (area = {0:0.3f})'\n",
    "                   ''.format(roc_auc[\"macro\"]),\n",
    "             color='navy', linestyle=':', lw=2)\n",
    "\n",
    "    colors = cycle(['aqua','c','m','y','k'])\n",
    "    for i, color in zip(range(n_classes), colors):\n",
    "        ax.plot(fpr[i], tpr[i], color=color, lw=2,\n",
    "                 label='ROC curve of class {0} (area = {1:0.3f})'\n",
    "                 ''.format(i, roc_auc[i]))\n",
    "\n",
    "    ax.plot([0, 1], [0, 1], 'k--', lw=2)\n",
    "    ax.set_xlim([-0.05, 1.05])\n",
    "    ax.set_ylim([-0.05, 1.05])\n",
    "    ax.set_xlabel('False Positive Rate')\n",
    "    ax.set_ylabel('True Positive Rate')\n",
    "    ax.set_title('ROC Curve to multi-class')\n",
    "    ax.set(title='ROC Curve for {} on PIMA diabetes problem'.format(model_name),\n",
    "           xlim=[-0.01, 1.01], ylim=[-0.01, 1.01])\n",
    "    ax.grid(True)\n",
    "    ax.legend()"
   ]
  },
  {
   "cell_type": "markdown",
   "metadata": {},
   "source": [
    "## Neural Network (NN)"
   ]
  },
  {
   "cell_type": "code",
   "execution_count": 12,
   "metadata": {},
   "outputs": [
    {
     "name": "stdout",
     "output_type": "stream",
     "text": [
      "Model: \"sequential\"\n",
      "_________________________________________________________________\n",
      "Layer (type)                 Output Shape              Param #   \n",
      "=================================================================\n",
      "dense (Dense)                (None, 30)                300       \n",
      "_________________________________________________________________\n",
      "dropout (Dropout)            (None, 30)                0         \n",
      "_________________________________________________________________\n",
      "dense_1 (Dense)              (None, 30)                930       \n",
      "_________________________________________________________________\n",
      "dropout_1 (Dropout)          (None, 30)                0         \n",
      "_________________________________________________________________\n",
      "dense_2 (Dense)              (None, 5)                 155       \n",
      "=================================================================\n",
      "Total params: 1,385\n",
      "Trainable params: 1,385\n",
      "Non-trainable params: 0\n",
      "_________________________________________________________________\n"
     ]
    }
   ],
   "source": [
    "model_NN = Sequential([Dense(30, input_dim=X_train_norm.shape[1], activation='relu'),\n",
    "                       Dropout(0.2),\n",
    "                       Dense(30, activation='relu', kernel_constraint=maxnorm(3)),\n",
    "                       Dropout(0.2),\n",
    "                       Dense(5, activation='softmax', kernel_constraint=maxnorm(3))\n",
    "                      ])\n",
    "model_NN.summary()"
   ]
  },
  {
   "cell_type": "code",
   "execution_count": 13,
   "metadata": {},
   "outputs": [],
   "source": [
    "# Compile the model with the following parameter\n",
    "model_NN.compile(loss='categorical_crossentropy',\n",
    "                 optimizer='adam',\n",
    "                 metrics=['accuracy'])\n",
    "\n",
    "# Early stop before overfitting\n",
    "early_stop = EarlyStopping(monitor='val_loss',\n",
    "                           mode='min',\n",
    "                           patience=20,\n",
    "                           restore_best_weights=True)"
   ]
  },
  {
   "cell_type": "code",
   "execution_count": 14,
   "metadata": {},
   "outputs": [
    {
     "name": "stdout",
     "output_type": "stream",
     "text": [
      "Epoch 1/150\n",
      "8/8 [==============================] - 0s 14ms/step - loss: 1.6937 - accuracy: 0.1437 - val_loss: 1.6341 - val_accuracy: 0.0750\n",
      "Epoch 2/150\n",
      "8/8 [==============================] - 0s 2ms/step - loss: 1.5894 - accuracy: 0.2125 - val_loss: 1.5279 - val_accuracy: 0.2000\n",
      "Epoch 3/150\n",
      "8/8 [==============================] - 0s 2ms/step - loss: 1.5117 - accuracy: 0.3000 - val_loss: 1.4354 - val_accuracy: 0.4250\n",
      "Epoch 4/150\n",
      "8/8 [==============================] - 0s 2ms/step - loss: 1.4091 - accuracy: 0.3938 - val_loss: 1.3492 - val_accuracy: 0.5750\n",
      "Epoch 5/150\n",
      "8/8 [==============================] - 0s 2ms/step - loss: 1.3268 - accuracy: 0.5188 - val_loss: 1.2714 - val_accuracy: 0.6000\n",
      "Epoch 6/150\n",
      "8/8 [==============================] - 0s 3ms/step - loss: 1.2752 - accuracy: 0.5500 - val_loss: 1.1994 - val_accuracy: 0.6500\n",
      "Epoch 7/150\n",
      "8/8 [==============================] - 0s 2ms/step - loss: 1.2067 - accuracy: 0.5875 - val_loss: 1.1325 - val_accuracy: 0.6750\n",
      "Epoch 8/150\n",
      "8/8 [==============================] - 0s 2ms/step - loss: 1.1795 - accuracy: 0.5312 - val_loss: 1.0669 - val_accuracy: 0.7000\n",
      "Epoch 9/150\n",
      "8/8 [==============================] - 0s 3ms/step - loss: 1.1083 - accuracy: 0.6250 - val_loss: 1.0058 - val_accuracy: 0.7000\n",
      "Epoch 10/150\n",
      "8/8 [==============================] - 0s 3ms/step - loss: 1.0446 - accuracy: 0.6125 - val_loss: 0.9508 - val_accuracy: 0.7000\n",
      "Epoch 11/150\n",
      "8/8 [==============================] - 0s 2ms/step - loss: 1.0005 - accuracy: 0.6562 - val_loss: 0.8986 - val_accuracy: 0.7250\n",
      "Epoch 12/150\n",
      "8/8 [==============================] - 0s 2ms/step - loss: 0.9526 - accuracy: 0.6562 - val_loss: 0.8523 - val_accuracy: 0.7250\n",
      "Epoch 13/150\n",
      "8/8 [==============================] - 0s 3ms/step - loss: 0.9549 - accuracy: 0.6187 - val_loss: 0.8114 - val_accuracy: 0.7500\n",
      "Epoch 14/150\n",
      "8/8 [==============================] - 0s 2ms/step - loss: 0.9310 - accuracy: 0.6250 - val_loss: 0.7733 - val_accuracy: 0.7250\n",
      "Epoch 15/150\n",
      "8/8 [==============================] - 0s 2ms/step - loss: 0.8635 - accuracy: 0.6812 - val_loss: 0.7364 - val_accuracy: 0.7250\n",
      "Epoch 16/150\n",
      "8/8 [==============================] - 0s 4ms/step - loss: 0.8834 - accuracy: 0.6625 - val_loss: 0.7036 - val_accuracy: 0.7250\n",
      "Epoch 17/150\n",
      "8/8 [==============================] - 0s 2ms/step - loss: 0.8034 - accuracy: 0.6500 - val_loss: 0.6729 - val_accuracy: 0.7250\n",
      "Epoch 18/150\n",
      "8/8 [==============================] - 0s 3ms/step - loss: 0.7500 - accuracy: 0.7125 - val_loss: 0.6435 - val_accuracy: 0.7250\n",
      "Epoch 19/150\n",
      "8/8 [==============================] - 0s 2ms/step - loss: 0.7130 - accuracy: 0.7312 - val_loss: 0.6144 - val_accuracy: 0.7250\n",
      "Epoch 20/150\n",
      "8/8 [==============================] - 0s 2ms/step - loss: 0.6951 - accuracy: 0.7063 - val_loss: 0.5857 - val_accuracy: 0.7500\n",
      "Epoch 21/150\n",
      "8/8 [==============================] - 0s 2ms/step - loss: 0.6505 - accuracy: 0.7250 - val_loss: 0.5600 - val_accuracy: 0.7500\n",
      "Epoch 22/150\n",
      "8/8 [==============================] - 0s 4ms/step - loss: 0.6543 - accuracy: 0.7125 - val_loss: 0.5377 - val_accuracy: 0.7500\n",
      "Epoch 23/150\n",
      "8/8 [==============================] - 0s 2ms/step - loss: 0.6532 - accuracy: 0.7250 - val_loss: 0.5166 - val_accuracy: 0.7500\n",
      "Epoch 24/150\n",
      "8/8 [==============================] - 0s 3ms/step - loss: 0.6096 - accuracy: 0.7937 - val_loss: 0.4956 - val_accuracy: 0.7750\n",
      "Epoch 25/150\n",
      "8/8 [==============================] - 0s 3ms/step - loss: 0.5817 - accuracy: 0.7875 - val_loss: 0.4739 - val_accuracy: 0.8250\n",
      "Epoch 26/150\n",
      "8/8 [==============================] - 0s 3ms/step - loss: 0.5646 - accuracy: 0.8000 - val_loss: 0.4537 - val_accuracy: 0.8250\n",
      "Epoch 27/150\n",
      "8/8 [==============================] - 0s 2ms/step - loss: 0.5531 - accuracy: 0.7812 - val_loss: 0.4379 - val_accuracy: 0.8500\n",
      "Epoch 28/150\n",
      "8/8 [==============================] - 0s 2ms/step - loss: 0.5088 - accuracy: 0.8062 - val_loss: 0.4205 - val_accuracy: 0.9000\n",
      "Epoch 29/150\n",
      "8/8 [==============================] - 0s 2ms/step - loss: 0.4811 - accuracy: 0.8062 - val_loss: 0.4034 - val_accuracy: 0.9500\n",
      "Epoch 30/150\n",
      "8/8 [==============================] - 0s 3ms/step - loss: 0.4554 - accuracy: 0.8687 - val_loss: 0.3920 - val_accuracy: 0.9250\n",
      "Epoch 31/150\n",
      "8/8 [==============================] - 0s 2ms/step - loss: 0.4704 - accuracy: 0.8625 - val_loss: 0.3837 - val_accuracy: 0.9250\n",
      "Epoch 32/150\n",
      "8/8 [==============================] - 0s 2ms/step - loss: 0.4504 - accuracy: 0.8750 - val_loss: 0.3722 - val_accuracy: 0.9250\n",
      "Epoch 33/150\n",
      "8/8 [==============================] - 0s 2ms/step - loss: 0.4004 - accuracy: 0.8938 - val_loss: 0.3526 - val_accuracy: 0.9250\n",
      "Epoch 34/150\n",
      "8/8 [==============================] - 0s 2ms/step - loss: 0.4383 - accuracy: 0.8625 - val_loss: 0.3238 - val_accuracy: 0.9500\n",
      "Epoch 35/150\n",
      "8/8 [==============================] - 0s 2ms/step - loss: 0.3670 - accuracy: 0.9375 - val_loss: 0.3036 - val_accuracy: 0.9500\n",
      "Epoch 36/150\n",
      "8/8 [==============================] - 0s 2ms/step - loss: 0.4270 - accuracy: 0.8500 - val_loss: 0.2905 - val_accuracy: 0.9500\n",
      "Epoch 37/150\n",
      "8/8 [==============================] - 0s 3ms/step - loss: 0.3930 - accuracy: 0.8687 - val_loss: 0.2840 - val_accuracy: 0.9500\n",
      "Epoch 38/150\n",
      "8/8 [==============================] - 0s 2ms/step - loss: 0.3989 - accuracy: 0.8813 - val_loss: 0.2740 - val_accuracy: 0.9500\n",
      "Epoch 39/150\n",
      "8/8 [==============================] - 0s 2ms/step - loss: 0.3549 - accuracy: 0.9000 - val_loss: 0.2663 - val_accuracy: 0.9500\n",
      "Epoch 40/150\n",
      "8/8 [==============================] - ETA: 0s - loss: 0.3342 - accuracy: 0.90 - 0s 2ms/step - loss: 0.3627 - accuracy: 0.8813 - val_loss: 0.2529 - val_accuracy: 0.9750\n",
      "Epoch 41/150\n",
      "8/8 [==============================] - 0s 2ms/step - loss: 0.3508 - accuracy: 0.8813 - val_loss: 0.2471 - val_accuracy: 0.9500\n",
      "Epoch 42/150\n",
      "8/8 [==============================] - 0s 2ms/step - loss: 0.3134 - accuracy: 0.9125 - val_loss: 0.2402 - val_accuracy: 0.9500\n",
      "Epoch 43/150\n",
      "8/8 [==============================] - 0s 2ms/step - loss: 0.3213 - accuracy: 0.8938 - val_loss: 0.2308 - val_accuracy: 0.9500\n",
      "Epoch 44/150\n",
      "8/8 [==============================] - 0s 2ms/step - loss: 0.3060 - accuracy: 0.8813 - val_loss: 0.2226 - val_accuracy: 0.9750\n",
      "Epoch 45/150\n",
      "8/8 [==============================] - 0s 2ms/step - loss: 0.3139 - accuracy: 0.8813 - val_loss: 0.2193 - val_accuracy: 0.9500\n",
      "Epoch 46/150\n",
      "8/8 [==============================] - 0s 2ms/step - loss: 0.3313 - accuracy: 0.8687 - val_loss: 0.2109 - val_accuracy: 0.9500\n",
      "Epoch 47/150\n",
      "8/8 [==============================] - 0s 2ms/step - loss: 0.2526 - accuracy: 0.9438 - val_loss: 0.2091 - val_accuracy: 0.9500\n",
      "Epoch 48/150\n",
      "8/8 [==============================] - 0s 2ms/step - loss: 0.2456 - accuracy: 0.9375 - val_loss: 0.2008 - val_accuracy: 0.9500\n",
      "Epoch 49/150\n",
      "8/8 [==============================] - 0s 2ms/step - loss: 0.2880 - accuracy: 0.8938 - val_loss: 0.1888 - val_accuracy: 0.9750\n",
      "Epoch 50/150\n",
      "8/8 [==============================] - 0s 2ms/step - loss: 0.2463 - accuracy: 0.9438 - val_loss: 0.1790 - val_accuracy: 0.9750\n",
      "Epoch 51/150\n",
      "8/8 [==============================] - 0s 2ms/step - loss: 0.2503 - accuracy: 0.9375 - val_loss: 0.1747 - val_accuracy: 0.9750\n",
      "Epoch 52/150\n",
      "8/8 [==============================] - 0s 2ms/step - loss: 0.2898 - accuracy: 0.9062 - val_loss: 0.1588 - val_accuracy: 0.9750\n",
      "Epoch 53/150\n",
      "8/8 [==============================] - 0s 2ms/step - loss: 0.2658 - accuracy: 0.9062 - val_loss: 0.1544 - val_accuracy: 0.9750\n",
      "Epoch 54/150\n",
      "8/8 [==============================] - 0s 2ms/step - loss: 0.2691 - accuracy: 0.9187 - val_loss: 0.1527 - val_accuracy: 0.9750\n",
      "Epoch 55/150\n",
      "8/8 [==============================] - 0s 2ms/step - loss: 0.2496 - accuracy: 0.9187 - val_loss: 0.1557 - val_accuracy: 0.9750\n",
      "Epoch 56/150\n",
      "8/8 [==============================] - 0s 2ms/step - loss: 0.2585 - accuracy: 0.9438 - val_loss: 0.1570 - val_accuracy: 0.9750\n",
      "Epoch 57/150\n",
      "8/8 [==============================] - 0s 2ms/step - loss: 0.2133 - accuracy: 0.9375 - val_loss: 0.1580 - val_accuracy: 0.9750\n",
      "Epoch 58/150\n",
      "8/8 [==============================] - 0s 2ms/step - loss: 0.2451 - accuracy: 0.9125 - val_loss: 0.1507 - val_accuracy: 0.9750\n",
      "Epoch 59/150\n"
     ]
    },
    {
     "name": "stdout",
     "output_type": "stream",
     "text": [
      "8/8 [==============================] - 0s 2ms/step - loss: 0.2365 - accuracy: 0.9062 - val_loss: 0.1453 - val_accuracy: 0.9750\n",
      "Epoch 60/150\n",
      "8/8 [==============================] - 0s 2ms/step - loss: 0.1877 - accuracy: 0.9500 - val_loss: 0.1407 - val_accuracy: 0.9750\n",
      "Epoch 61/150\n",
      "8/8 [==============================] - 0s 2ms/step - loss: 0.2148 - accuracy: 0.9375 - val_loss: 0.1436 - val_accuracy: 0.9750\n",
      "Epoch 62/150\n",
      "8/8 [==============================] - 0s 2ms/step - loss: 0.2148 - accuracy: 0.9375 - val_loss: 0.1412 - val_accuracy: 0.9750\n",
      "Epoch 63/150\n",
      "8/8 [==============================] - 0s 2ms/step - loss: 0.2535 - accuracy: 0.9250 - val_loss: 0.1322 - val_accuracy: 0.9750\n",
      "Epoch 64/150\n",
      "8/8 [==============================] - 0s 2ms/step - loss: 0.2306 - accuracy: 0.9375 - val_loss: 0.1293 - val_accuracy: 0.9750\n",
      "Epoch 65/150\n",
      "8/8 [==============================] - 0s 2ms/step - loss: 0.1928 - accuracy: 0.9125 - val_loss: 0.1288 - val_accuracy: 0.9750\n",
      "Epoch 66/150\n",
      "8/8 [==============================] - 0s 2ms/step - loss: 0.1911 - accuracy: 0.9375 - val_loss: 0.1327 - val_accuracy: 0.9750\n",
      "Epoch 67/150\n",
      "8/8 [==============================] - 0s 2ms/step - loss: 0.1931 - accuracy: 0.9563 - val_loss: 0.1411 - val_accuracy: 0.9750\n",
      "Epoch 68/150\n",
      "8/8 [==============================] - 0s 2ms/step - loss: 0.2105 - accuracy: 0.9187 - val_loss: 0.1403 - val_accuracy: 0.9750\n",
      "Epoch 69/150\n",
      "8/8 [==============================] - 0s 2ms/step - loss: 0.1802 - accuracy: 0.9438 - val_loss: 0.1291 - val_accuracy: 0.9750\n",
      "Epoch 70/150\n",
      "8/8 [==============================] - 0s 2ms/step - loss: 0.2127 - accuracy: 0.9250 - val_loss: 0.1195 - val_accuracy: 0.9750\n",
      "Epoch 71/150\n",
      "8/8 [==============================] - 0s 2ms/step - loss: 0.2028 - accuracy: 0.9500 - val_loss: 0.1160 - val_accuracy: 0.9750\n",
      "Epoch 72/150\n",
      "8/8 [==============================] - 0s 2ms/step - loss: 0.1908 - accuracy: 0.9312 - val_loss: 0.1163 - val_accuracy: 0.9750\n",
      "Epoch 73/150\n",
      "8/8 [==============================] - 0s 2ms/step - loss: 0.1572 - accuracy: 0.9563 - val_loss: 0.1088 - val_accuracy: 0.9750\n",
      "Epoch 74/150\n",
      "8/8 [==============================] - 0s 2ms/step - loss: 0.2248 - accuracy: 0.9375 - val_loss: 0.1033 - val_accuracy: 0.9750\n",
      "Epoch 75/150\n",
      "8/8 [==============================] - 0s 2ms/step - loss: 0.1627 - accuracy: 0.9500 - val_loss: 0.1005 - val_accuracy: 0.9750\n",
      "Epoch 76/150\n",
      "8/8 [==============================] - 0s 2ms/step - loss: 0.1832 - accuracy: 0.9312 - val_loss: 0.1039 - val_accuracy: 0.9750\n",
      "Epoch 77/150\n",
      "8/8 [==============================] - 0s 2ms/step - loss: 0.1953 - accuracy: 0.9250 - val_loss: 0.1110 - val_accuracy: 0.9750\n",
      "Epoch 78/150\n",
      "8/8 [==============================] - 0s 2ms/step - loss: 0.1558 - accuracy: 0.9625 - val_loss: 0.1127 - val_accuracy: 0.9750\n",
      "Epoch 79/150\n",
      "8/8 [==============================] - 0s 2ms/step - loss: 0.1452 - accuracy: 0.9500 - val_loss: 0.1126 - val_accuracy: 0.9750\n",
      "Epoch 80/150\n",
      "8/8 [==============================] - 0s 2ms/step - loss: 0.1463 - accuracy: 0.9563 - val_loss: 0.1115 - val_accuracy: 0.9750\n",
      "Epoch 81/150\n",
      "8/8 [==============================] - 0s 2ms/step - loss: 0.1703 - accuracy: 0.9375 - val_loss: 0.1156 - val_accuracy: 0.9750\n",
      "Epoch 82/150\n",
      "8/8 [==============================] - 0s 2ms/step - loss: 0.1338 - accuracy: 0.9750 - val_loss: 0.1158 - val_accuracy: 0.9750\n",
      "Epoch 83/150\n",
      "8/8 [==============================] - 0s 2ms/step - loss: 0.1529 - accuracy: 0.9500 - val_loss: 0.1152 - val_accuracy: 0.9750\n",
      "Epoch 84/150\n",
      "8/8 [==============================] - 0s 2ms/step - loss: 0.1515 - accuracy: 0.9563 - val_loss: 0.1133 - val_accuracy: 0.9750\n",
      "Epoch 85/150\n",
      "8/8 [==============================] - 0s 2ms/step - loss: 0.1560 - accuracy: 0.9563 - val_loss: 0.1143 - val_accuracy: 0.9750\n",
      "Epoch 86/150\n",
      "8/8 [==============================] - 0s 2ms/step - loss: 0.1489 - accuracy: 0.9563 - val_loss: 0.1168 - val_accuracy: 0.9750\n",
      "Epoch 87/150\n",
      "8/8 [==============================] - 0s 2ms/step - loss: 0.1623 - accuracy: 0.9625 - val_loss: 0.1223 - val_accuracy: 0.9750\n",
      "Epoch 88/150\n",
      "8/8 [==============================] - 0s 2ms/step - loss: 0.1688 - accuracy: 0.9438 - val_loss: 0.1176 - val_accuracy: 0.9750\n",
      "Epoch 89/150\n",
      "8/8 [==============================] - 0s 2ms/step - loss: 0.1308 - accuracy: 0.9625 - val_loss: 0.1116 - val_accuracy: 0.9750\n",
      "Epoch 90/150\n",
      "8/8 [==============================] - 0s 2ms/step - loss: 0.1449 - accuracy: 0.9563 - val_loss: 0.1108 - val_accuracy: 0.9750\n",
      "Epoch 91/150\n",
      "8/8 [==============================] - 0s 2ms/step - loss: 0.1485 - accuracy: 0.9375 - val_loss: 0.1114 - val_accuracy: 0.9750\n",
      "Epoch 92/150\n",
      "8/8 [==============================] - 0s 2ms/step - loss: 0.1375 - accuracy: 0.9688 - val_loss: 0.1126 - val_accuracy: 0.9750\n",
      "Epoch 93/150\n",
      "8/8 [==============================] - 0s 2ms/step - loss: 0.1270 - accuracy: 0.9563 - val_loss: 0.1190 - val_accuracy: 0.9750\n",
      "Epoch 94/150\n",
      "8/8 [==============================] - 0s 2ms/step - loss: 0.1320 - accuracy: 0.9438 - val_loss: 0.1151 - val_accuracy: 0.9750\n",
      "Epoch 95/150\n",
      "8/8 [==============================] - 0s 2ms/step - loss: 0.1496 - accuracy: 0.9375 - val_loss: 0.1062 - val_accuracy: 0.9750\n"
     ]
    }
   ],
   "source": [
    "# Start Training\n",
    "tic()\n",
    "run_NN = model_NN.fit(x = X_train_norm, \n",
    "                      y = y_train,\n",
    "                      validation_data = (X_test_norm, y_test),\n",
    "                      epochs = 150,\n",
    "                      batch_size = 20,\n",
    "                      callbacks=[early_stop])\n",
    "nn_time = toc()\n",
    "# End"
   ]
  },
  {
   "cell_type": "code",
   "execution_count": 15,
   "metadata": {},
   "outputs": [],
   "source": [
    "# Probabilistic score\n",
    "y_pred_nn = model_NN.predict(X_test_norm)\n",
    "\n",
    "# Hard decision\n",
    "y_pred_class_nn = np.argmax(y_pred_nn,axis=1)"
   ]
  },
  {
   "cell_type": "markdown",
   "metadata": {},
   "source": [
    "## Confusion Matrix (NN)"
   ]
  },
  {
   "cell_type": "code",
   "execution_count": 16,
   "metadata": {},
   "outputs": [
    {
     "name": "stdout",
     "output_type": "stream",
     "text": [
      "[[18  0  0  1  0]\n",
      " [ 0  4  0  0  0]\n",
      " [ 0  0  4  0  0]\n",
      " [ 0  0  0  2  0]\n",
      " [ 0  0  0  0 11]]\n",
      "\n",
      "Accuracy: 0.975\n"
     ]
    }
   ],
   "source": [
    "nn_cm = confusion_matrix(inverse_transform(y_test), y_pred_class_nn)\n",
    "nn_acc = (accuracy_score(inverse_transform(y_test), y_pred_class_nn))\n",
    "\n",
    "print(nn_cm)\n",
    "print(\"\\nAccuracy: %.3f\" % nn_acc)"
   ]
  },
  {
   "cell_type": "markdown",
   "metadata": {},
   "source": [
    "## ROC Curve (NN)"
   ]
  },
  {
   "cell_type": "code",
   "execution_count": 17,
   "metadata": {},
   "outputs": [
    {
     "data": {
      "image/png": "[encoded data removed]",
      "text/plain": [
       "<Figure size 576x576 with 1 Axes>"
      ]
     },
     "metadata": {
      "needs_background": "light"
     },
     "output_type": "display_data"
    }
   ],
   "source": [
    "plot_multiple_roc(y_test, y_pred_nn, 'NN')"
   ]
  },
  {
   "cell_type": "markdown",
   "metadata": {},
   "source": [
    "## Loss over iterations (NN)"
   ]
  },
  {
   "cell_type": "code",
   "execution_count": 18,
   "metadata": {
    "scrolled": true
   },
   "outputs": [
    {
     "data": {
      "text/plain": [
       "<matplotlib.legend.Legend at 0x15756ee6fd0>"
      ]
     },
     "execution_count": 18,
     "metadata": {},
     "output_type": "execute_result"
    },
    {
     "data": {
      "image/png": "[encoded data removed]",
      "text/plain": [
       "<Figure size 432x288 with 1 Axes>"
      ]
     },
     "metadata": {
      "needs_background": "light"
     },
     "output_type": "display_data"
    }
   ],
   "source": [
    "fig, ax = plt.subplots()\n",
    "ax.plot(run_NN.history[\"loss\"],'r', marker='.', label=\"Train Loss\")\n",
    "ax.plot(run_NN.history[\"val_loss\"],'b', marker='.', label=\"Validation Loss\")\n",
    "ax.set_title(\"Loss over iterations\")\n",
    "ax.set_xlabel(\"Iterations\")\n",
    "ax.set_ylabel(\"Losses\")\n",
    "ax.legend()"
   ]
  },
  {
   "cell_type": "markdown",
   "metadata": {},
   "source": [
    "## K-nearest neighbors (KNN)"
   ]
  },
  {
   "cell_type": "code",
   "execution_count": 19,
   "metadata": {},
   "outputs": [
    {
     "name": "stdout",
     "output_type": "stream",
     "text": [
      "Train Score: 0.64375\n",
      "Test Score: 0.775\n"
     ]
    }
   ],
   "source": [
    "knn = KNeighborsClassifier()\n",
    "accuracies = cross_val_score(knn, X_train_norm, y_train, cv=5)\n",
    "knn.fit(X_train_norm,y_train)\n",
    "\n",
    "print(\"Train Score:\", np.mean(accuracies))\n",
    "print(\"Test Score:\", knn.score(X_test_norm,y_test))"
   ]
  },
  {
   "cell_type": "markdown",
   "metadata": {},
   "source": [
    "## GridSearchCV (KNN)"
   ]
  },
  {
   "cell_type": "code",
   "execution_count": 20,
   "metadata": {},
   "outputs": [
    {
     "name": "stdout",
     "output_type": "stream",
     "text": [
      "Hyperparameters: {'n_neighbors': 1, 'p': 2, 'weights': 'uniform'}\n",
      "Train Score: 0.8625\n",
      "Test Score: 0.925\n",
      "Maximum accuracy: 0.925 at K = 1\n"
     ]
    },
    {
     "data": {
      "image/png": "[encoded data removed]",
      "text/plain": [
       "<Figure size 720x432 with 1 Axes>"
      ]
     },
     "metadata": {
      "needs_background": "light"
     },
     "output_type": "display_data"
    }
   ],
   "source": [
    "# Get predefined hyperparameters\n",
    "grid = {'n_neighbors' : np.arange(1,120),\n",
    "        'p' : np.arange(1,3),\n",
    "        'weights' : ['uniform','distance']\n",
    "       }\n",
    "\n",
    "knn = KNeighborsClassifier(algorithm = \"auto\")\n",
    "knn_cv = GridSearchCV(knn,grid,cv=5)\n",
    "knn_cv.fit(X_train_norm,y_train)\n",
    "\n",
    "print(\"Hyperparameters:\", knn_cv.best_params_)\n",
    "print(\"Train Score:\", knn_cv.best_score_)\n",
    "print(\"Test Score:\", knn_cv.score(X_test_norm, y_test))\n",
    "\n",
    "acc = []\n",
    "for i in range(1,40):\n",
    "    knn = KNeighborsClassifier(n_neighbors = i).fit(X_train_norm,y_train)\n",
    "    y_pred = knn.predict(X_test_norm)\n",
    "    acc.append(accuracy_score(y_test, y_pred))\n",
    "    \n",
    "# Plot the K values for KNN model with its accuracy    \n",
    "plt.figure(figsize=(10,6))\n",
    "plt.plot(range(1,40),acc,color = 'blue',linestyle='dashed', \n",
    "         marker='o',markerfacecolor='red', markersize=10)\n",
    "plt.title('Accuracy vs. K Value')\n",
    "plt.xlabel('K')\n",
    "plt.ylabel('Accuracy')\n",
    "print(\"Maximum accuracy:\",max(acc),\"at K =\",acc.index(max(acc))+1)"
   ]
  },
  {
   "cell_type": "code",
   "execution_count": 21,
   "metadata": {
    "scrolled": true
   },
   "outputs": [],
   "source": [
    "# Start Training\n",
    "tic()\n",
    "knn = KNeighborsClassifier(n_neighbors = acc.index(max(acc))+1,\n",
    "                           p = 2,\n",
    "                           weights='uniform')\n",
    "knn.fit(X_train_norm,y_train)\n",
    "knn_time = toc()\n",
    "# End\n",
    "\n",
    "y_pred_knn = knn.predict(X_test_norm)"
   ]
  },
  {
   "cell_type": "markdown",
   "metadata": {},
   "source": [
    "## Confusion Matrix (KNN)"
   ]
  },
  {
   "cell_type": "code",
   "execution_count": 22,
   "metadata": {},
   "outputs": [
    {
     "name": "stdout",
     "output_type": "stream",
     "text": [
      "[[17  1  0  1  0]\n",
      " [ 0  4  0  0  0]\n",
      " [ 0  0  4  0  0]\n",
      " [ 0  0  0  2  0]\n",
      " [ 1  0  0  0 10]]\n",
      "\n",
      "Accuracy: 0.925\n"
     ]
    }
   ],
   "source": [
    "knn_cm = confusion_matrix(inverse_transform(y_test), inverse_transform(y_pred_knn))\n",
    "knn_acc = (accuracy_score(y_test, y_pred_knn))\n",
    "\n",
    "print(knn_cm)\n",
    "print(\"\\nAccuracy: %.3f\" % knn_acc)"
   ]
  },
  {
   "cell_type": "markdown",
   "metadata": {},
   "source": [
    "## ROC Curve (KNN)"
   ]
  },
  {
   "cell_type": "code",
   "execution_count": 23,
   "metadata": {},
   "outputs": [
    {
     "data": {
      "image/png": "[encoded data removed]",
      "text/plain": [
       "<Figure size 576x576 with 1 Axes>"
      ]
     },
     "metadata": {
      "needs_background": "light"
     },
     "output_type": "display_data"
    }
   ],
   "source": [
    "plot_multiple_roc(y_test, y_pred_knn, 'KNN')"
   ]
  },
  {
   "cell_type": "markdown",
   "metadata": {},
   "source": [
    "## Gaussian Naive-Bayes Classification (GNB)"
   ]
  },
  {
   "cell_type": "markdown",
   "metadata": {},
   "source": [
    "Assume features are continuous, and Gaussian Naive Bayes is used."
   ]
  },
  {
   "cell_type": "code",
   "execution_count": 24,
   "metadata": {},
   "outputs": [
    {
     "name": "stdout",
     "output_type": "stream",
     "text": [
      "The best parameter for GaussianNB() is {'var_smoothing': 0.01}\n",
      "with the accuracy train score at 0.81875\n"
     ]
    }
   ],
   "source": [
    "gnb = GaussianNB()\n",
    "gnb_params = [{'var_smoothing': [10,1,0.1,0.01,1e-3,1e-4,1e-5,1e-6,1e-7,1e-8,1e-9,1e-10]}]\n",
    "\n",
    "# GridSearchCV to get the best hyperparameters for the model\n",
    "gnb_cv = GridSearchCV(gnb, gnb_params, cv = 5, scoring='accuracy')\n",
    "\n",
    "gnb_cv.fit(X_train_norm, inverse_transform(y_train))\n",
    "print(\"The best parameter for GaussianNB() is\", gnb_cv.best_params_)\n",
    "print(\"with the accuracy train score at\", gnb_cv.best_score_)"
   ]
  },
  {
   "cell_type": "code",
   "execution_count": 25,
   "metadata": {},
   "outputs": [],
   "source": [
    "# Start Training\n",
    "tic()\n",
    "gnb = GaussianNB(var_smoothing=0.01)\n",
    "gnb.fit(X_train_norm, inverse_transform(y_train))\n",
    "gnb_time = toc()\n",
    "# End\n",
    "\n",
    "y_pred_gnb = gnb.predict(X_test_norm)"
   ]
  },
  {
   "cell_type": "markdown",
   "metadata": {},
   "source": [
    "## Confusion Matrix (GNB)"
   ]
  },
  {
   "cell_type": "code",
   "execution_count": 26,
   "metadata": {},
   "outputs": [
    {
     "name": "stdout",
     "output_type": "stream",
     "text": [
      "[[12  2  1  2  2]\n",
      " [ 0  4  0  0  0]\n",
      " [ 0  0  4  0  0]\n",
      " [ 0  0  0  2  0]\n",
      " [ 0  0  0  0 11]]\n",
      "\n",
      "Accuracy: 0.825\n"
     ]
    }
   ],
   "source": [
    "gnb_cm = confusion_matrix(inverse_transform(y_test), y_pred_gnb)\n",
    "gnb_acc = (accuracy_score(inverse_transform(y_test), y_pred_gnb))\n",
    "\n",
    "print(gnb_cm)\n",
    "print(\"\\nAccuracy: %.3f\" % gnb_acc)"
   ]
  },
  {
   "cell_type": "markdown",
   "metadata": {},
   "source": [
    "## ROC Curve (GNB)"
   ]
  },
  {
   "cell_type": "code",
   "execution_count": 27,
   "metadata": {},
   "outputs": [
    {
     "data": {
      "image/png": "[encoded data removed]",
      "text/plain": [
       "<Figure size 576x576 with 1 Axes>"
      ]
     },
     "metadata": {
      "needs_background": "light"
     },
     "output_type": "display_data"
    }
   ],
   "source": [
    "plot_multiple_roc(y_test, np.array(pd.get_dummies(y_pred_gnb)), 'GNB')"
   ]
  },
  {
   "cell_type": "markdown",
   "metadata": {},
   "source": [
    "<hr>\n",
    "<hr>\n",
    "\n",
    "# Summary (Metrics)"
   ]
  },
  {
   "cell_type": "markdown",
   "metadata": {},
   "source": [
    "## Runtime"
   ]
  },
  {
   "cell_type": "code",
   "execution_count": 28,
   "metadata": {},
   "outputs": [
    {
     "name": "stdout",
     "output_type": "stream",
     "text": [
      "Neural Network training time\t: 2.38s\n",
      "Gaussian Naive Bayes time\t: 0.0s\n",
      "K-nearest Neighbors time\t: 0.0s\n"
     ]
    }
   ],
   "source": [
    "print('Neural Network training time\\t: {}s'.format(nn_time))\n",
    "print('Gaussian Naive Bayes time\\t: {}s'.format(gnb_time))\n",
    "print('K-nearest Neighbors time\\t: {}s'.format(knn_time))"
   ]
  },
  {
   "cell_type": "markdown",
   "metadata": {},
   "source": [
    "## Confusion Matrix"
   ]
  },
  {
   "cell_type": "code",
   "execution_count": 29,
   "metadata": {},
   "outputs": [
    {
     "name": "stdout",
     "output_type": "stream",
     "text": [
      "Neural Network:\n",
      " [[18  0  0  1  0]\n",
      " [ 0  4  0  0  0]\n",
      " [ 0  0  4  0  0]\n",
      " [ 0  0  0  2  0]\n",
      " [ 0  0  0  0 11]]\n",
      "\n",
      "Gaussian Naive Bayes:\n",
      " [[12  2  1  2  2]\n",
      " [ 0  4  0  0  0]\n",
      " [ 0  0  4  0  0]\n",
      " [ 0  0  0  2  0]\n",
      " [ 0  0  0  0 11]]\n",
      "\n",
      "K-nearest Neighbors:\n",
      " [[17  1  0  1  0]\n",
      " [ 0  4  0  0  0]\n",
      " [ 0  0  4  0  0]\n",
      " [ 0  0  0  2  0]\n",
      " [ 1  0  0  0 10]]\n"
     ]
    }
   ],
   "source": [
    "print('Neural Network:\\n {}'.format(nn_cm))\n",
    "print('\\nGaussian Naive Bayes:\\n {}'.format(gnb_cm))\n",
    "print('\\nK-nearest Neighbors:\\n {}'.format(knn_cm))"
   ]
  },
  {
   "cell_type": "markdown",
   "metadata": {},
   "source": [
    "## Accuracy score"
   ]
  },
  {
   "cell_type": "code",
   "execution_count": 30,
   "metadata": {},
   "outputs": [
    {
     "name": "stdout",
     "output_type": "stream",
     "text": [
      "Neural Network \t\t: 0.975\n",
      "Gaussian Naive Bayes \t: 0.825\n",
      "K-nearest Neighbors \t: 0.925\n"
     ]
    }
   ],
   "source": [
    "print('Neural Network \\t\\t: {}'.format(nn_acc))\n",
    "print('Gaussian Naive Bayes \\t: {}'.format(gnb_acc))\n",
    "print('K-nearest Neighbors \\t: {}'.format(knn_acc))"
   ]
  }
 ],
 "metadata": {
  "kernelspec": {
   "display_name": "Python 3",
   "language": "python",
   "name": "python3"
  },
  "language_info": {
   "codemirror_mode": {
    "name": "ipython",
    "version": 3
   },
   "file_extension": ".py",
   "mimetype": "text/x-python",
   "name": "python",
   "nbconvert_exporter": "python",
   "pygments_lexer": "ipython3",
   "version": "3.8.10"
  }
 },
 "nbformat": 4,
 "nbformat_minor": 4
}
